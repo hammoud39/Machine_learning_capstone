{
 "cells": [
  {
   "cell_type": "code",
   "execution_count": 439,
   "metadata": {},
   "outputs": [],
   "source": [
    "# Import required libraries\n",
    "import pandas as pd\n",
    "pd.set_option('display.max_columns', None)\n",
    "pd.set_option('display.max_rows', None)\n",
    "import numpy as np\n",
    "import requests\n",
    "from bs4 import BeautifulSoup\n",
    "import io\n",
    "import folium\n",
    "import matplotlib.cm as cm\n",
    "import matplotlib.colors as colors\n",
    "from sklearn.cluster import KMeans\n",
    "import folium\n",
    "from geopy.geocoders import Nominatim"
   ]
  },
  {
   "cell_type": "code",
   "execution_count": 440,
   "metadata": {},
   "outputs": [],
   "source": [
    "# Get data from wikipedia page, process the data to extract table\n",
    "website_url = requests.get('https://en.wikipedia.org/wiki/List_of_postal_codes_of_Canada:_M').text\n",
    "soup = BeautifulSoup(website_url,'html')\n",
    "# print(soup.prettify())\n",
    "postal_codes_table = soup.find('table',{'class':'wikitable'})\n",
    "# postal_codes_table"
   ]
  },
  {
   "cell_type": "code",
   "execution_count": 441,
   "metadata": {},
   "outputs": [],
   "source": [
    "# Extracting postal codes and other data\n",
    "rows = postal_codes_table.findAll('tr')[1:]\n",
    "postal_codes = []\n",
    "boroughs = []\n",
    "neighborhoods = []\n",
    "\n",
    "for row in rows:\n",
    "    postal_codes.append(row.findAll('td')[0].renderContents().strip().decode(\"utf-8\") )\n",
    "    boroughs.append(row.findAll('td')[1].renderContents().strip().decode(\"utf-8\") )\n",
    "    neighborhoods.append(row.findAll('td')[2].renderContents().strip().decode(\"utf-8\") )\n",
    "    \n",
    "# print('postal_codes list: ' + str(postal_codes))\n",
    "# print('boroughs list: ' + str(boroughs))\n",
    "# print('neighborhoods list: ' + str(neighborhoods))"
   ]
  },
  {
   "cell_type": "code",
   "execution_count": 442,
   "metadata": {},
   "outputs": [
    {
     "data": {
      "text/html": [
       "<div>\n",
       "<style scoped>\n",
       "    .dataframe tbody tr th:only-of-type {\n",
       "        vertical-align: middle;\n",
       "    }\n",
       "\n",
       "    .dataframe tbody tr th {\n",
       "        vertical-align: top;\n",
       "    }\n",
       "\n",
       "    .dataframe thead th {\n",
       "        text-align: right;\n",
       "    }\n",
       "</style>\n",
       "<table border=\"1\" class=\"dataframe\">\n",
       "  <thead>\n",
       "    <tr style=\"text-align: right;\">\n",
       "      <th></th>\n",
       "      <th>PostalCode</th>\n",
       "      <th>Borough</th>\n",
       "      <th>Neighborhood</th>\n",
       "    </tr>\n",
       "  </thead>\n",
       "  <tbody>\n",
       "    <tr>\n",
       "      <th>0</th>\n",
       "      <td>M1A</td>\n",
       "      <td>Not assigned</td>\n",
       "      <td></td>\n",
       "    </tr>\n",
       "    <tr>\n",
       "      <th>1</th>\n",
       "      <td>M2A</td>\n",
       "      <td>Not assigned</td>\n",
       "      <td></td>\n",
       "    </tr>\n",
       "    <tr>\n",
       "      <th>2</th>\n",
       "      <td>M3A</td>\n",
       "      <td>North York</td>\n",
       "      <td>Parkwoods</td>\n",
       "    </tr>\n",
       "    <tr>\n",
       "      <th>3</th>\n",
       "      <td>M4A</td>\n",
       "      <td>North York</td>\n",
       "      <td>Victoria Village</td>\n",
       "    </tr>\n",
       "    <tr>\n",
       "      <th>4</th>\n",
       "      <td>M5A</td>\n",
       "      <td>Downtown Toronto</td>\n",
       "      <td>Regent Park / Harbourfront</td>\n",
       "    </tr>\n",
       "  </tbody>\n",
       "</table>\n",
       "</div>"
      ],
      "text/plain": [
       "  PostalCode           Borough                Neighborhood\n",
       "0        M1A      Not assigned                            \n",
       "1        M2A      Not assigned                            \n",
       "2        M3A        North York                   Parkwoods\n",
       "3        M4A        North York            Victoria Village\n",
       "4        M5A  Downtown Toronto  Regent Park / Harbourfront"
      ]
     },
     "execution_count": 442,
     "metadata": {},
     "output_type": "execute_result"
    }
   ],
   "source": [
    "# Create a pandas dataframe\n",
    "columns = ['PostalCode', 'Borough', 'Neighborhood']\n",
    "df = pd.DataFrame(columns = columns) \n",
    "df['PostalCode'] = postal_codes\n",
    "df['Borough'] = boroughs\n",
    "df['Neighborhood'] = neighborhoods\n",
    "df.head()"
   ]
  },
  {
   "cell_type": "code",
   "execution_count": 443,
   "metadata": {},
   "outputs": [
    {
     "data": {
      "text/html": [
       "<div>\n",
       "<style scoped>\n",
       "    .dataframe tbody tr th:only-of-type {\n",
       "        vertical-align: middle;\n",
       "    }\n",
       "\n",
       "    .dataframe tbody tr th {\n",
       "        vertical-align: top;\n",
       "    }\n",
       "\n",
       "    .dataframe thead th {\n",
       "        text-align: right;\n",
       "    }\n",
       "</style>\n",
       "<table border=\"1\" class=\"dataframe\">\n",
       "  <thead>\n",
       "    <tr style=\"text-align: right;\">\n",
       "      <th></th>\n",
       "      <th>PostalCode</th>\n",
       "      <th>Borough</th>\n",
       "      <th>Neighborhood</th>\n",
       "    </tr>\n",
       "  </thead>\n",
       "  <tbody>\n",
       "    <tr>\n",
       "      <th>0</th>\n",
       "      <td>M3A</td>\n",
       "      <td>North York</td>\n",
       "      <td>Parkwoods</td>\n",
       "    </tr>\n",
       "    <tr>\n",
       "      <th>1</th>\n",
       "      <td>M4A</td>\n",
       "      <td>North York</td>\n",
       "      <td>Victoria Village</td>\n",
       "    </tr>\n",
       "    <tr>\n",
       "      <th>2</th>\n",
       "      <td>M5A</td>\n",
       "      <td>Downtown Toronto</td>\n",
       "      <td>Regent Park , Harbourfront</td>\n",
       "    </tr>\n",
       "    <tr>\n",
       "      <th>3</th>\n",
       "      <td>M6A</td>\n",
       "      <td>North York</td>\n",
       "      <td>Lawrence Manor , Lawrence Heights</td>\n",
       "    </tr>\n",
       "    <tr>\n",
       "      <th>4</th>\n",
       "      <td>M7A</td>\n",
       "      <td>Downtown Toronto</td>\n",
       "      <td>Queen's Park , Ontario Provincial Government</td>\n",
       "    </tr>\n",
       "  </tbody>\n",
       "</table>\n",
       "</div>"
      ],
      "text/plain": [
       "  PostalCode           Borough                                  Neighborhood\n",
       "0        M3A        North York                                     Parkwoods\n",
       "1        M4A        North York                              Victoria Village\n",
       "2        M5A  Downtown Toronto                    Regent Park , Harbourfront\n",
       "3        M6A        North York             Lawrence Manor , Lawrence Heights\n",
       "4        M7A  Downtown Toronto  Queen's Park , Ontario Provincial Government"
      ]
     },
     "execution_count": 443,
     "metadata": {},
     "output_type": "execute_result"
    }
   ],
   "source": [
    "# Remove all rows with Borough = 'Not assigned'\n",
    "df.drop(df[df['Borough'] == 'Not assigned'].index, axis=0, inplace=True)\n",
    "df.reset_index(inplace = True, drop = True)\n",
    "\n",
    "# Replace '/' by ','\n",
    "for k in range(1,df.shape[0]):\n",
    "    neigh = df['Neighborhood'].iloc[k] \n",
    "    if neigh.find('/') > 0:\n",
    "        df['Neighborhood'].iloc[k] = ','.join(df['Neighborhood'].iloc[k].split('/'))\n",
    "    \n",
    "# If a cell has a borough but a Not assigned neighborhood, then the neighborhood will be the same as the borough.\n",
    "df.loc[df['Neighborhood'] == 'Not assigned']['Neighborhood'] = df.loc[df['Neighborhood'] == 'Not assigned']['Borough']\n",
    "\n",
    "df.head()"
   ]
  },
  {
   "cell_type": "code",
   "execution_count": 444,
   "metadata": {},
   "outputs": [
    {
     "data": {
      "text/plain": [
       "(103, 3)"
      ]
     },
     "execution_count": 444,
     "metadata": {},
     "output_type": "execute_result"
    }
   ],
   "source": [
    "df.shape"
   ]
  },
  {
   "cell_type": "code",
   "execution_count": 445,
   "metadata": {},
   "outputs": [
    {
     "data": {
      "text/html": [
       "<div>\n",
       "<style scoped>\n",
       "    .dataframe tbody tr th:only-of-type {\n",
       "        vertical-align: middle;\n",
       "    }\n",
       "\n",
       "    .dataframe tbody tr th {\n",
       "        vertical-align: top;\n",
       "    }\n",
       "\n",
       "    .dataframe thead th {\n",
       "        text-align: right;\n",
       "    }\n",
       "</style>\n",
       "<table border=\"1\" class=\"dataframe\">\n",
       "  <thead>\n",
       "    <tr style=\"text-align: right;\">\n",
       "      <th></th>\n",
       "      <th>PostalCode</th>\n",
       "      <th>Borough</th>\n",
       "      <th>Neighborhood</th>\n",
       "      <th>Latitude</th>\n",
       "      <th>Longitude</th>\n",
       "    </tr>\n",
       "  </thead>\n",
       "  <tbody>\n",
       "    <tr>\n",
       "      <th>0</th>\n",
       "      <td>M3A</td>\n",
       "      <td>North York</td>\n",
       "      <td>Parkwoods</td>\n",
       "      <td>43.806686</td>\n",
       "      <td>-79.194353</td>\n",
       "    </tr>\n",
       "    <tr>\n",
       "      <th>1</th>\n",
       "      <td>M4A</td>\n",
       "      <td>North York</td>\n",
       "      <td>Victoria Village</td>\n",
       "      <td>43.784535</td>\n",
       "      <td>-79.160497</td>\n",
       "    </tr>\n",
       "    <tr>\n",
       "      <th>2</th>\n",
       "      <td>M5A</td>\n",
       "      <td>Downtown Toronto</td>\n",
       "      <td>Regent Park , Harbourfront</td>\n",
       "      <td>43.763573</td>\n",
       "      <td>-79.188711</td>\n",
       "    </tr>\n",
       "    <tr>\n",
       "      <th>3</th>\n",
       "      <td>M6A</td>\n",
       "      <td>North York</td>\n",
       "      <td>Lawrence Manor , Lawrence Heights</td>\n",
       "      <td>43.770992</td>\n",
       "      <td>-79.216917</td>\n",
       "    </tr>\n",
       "    <tr>\n",
       "      <th>4</th>\n",
       "      <td>M7A</td>\n",
       "      <td>Downtown Toronto</td>\n",
       "      <td>Queen's Park , Ontario Provincial Government</td>\n",
       "      <td>43.773136</td>\n",
       "      <td>-79.239476</td>\n",
       "    </tr>\n",
       "  </tbody>\n",
       "</table>\n",
       "</div>"
      ],
      "text/plain": [
       "  PostalCode           Borough                                  Neighborhood  \\\n",
       "0        M3A        North York                                     Parkwoods   \n",
       "1        M4A        North York                              Victoria Village   \n",
       "2        M5A  Downtown Toronto                    Regent Park , Harbourfront   \n",
       "3        M6A        North York             Lawrence Manor , Lawrence Heights   \n",
       "4        M7A  Downtown Toronto  Queen's Park , Ontario Provincial Government   \n",
       "\n",
       "    Latitude  Longitude  \n",
       "0  43.806686 -79.194353  \n",
       "1  43.784535 -79.160497  \n",
       "2  43.763573 -79.188711  \n",
       "3  43.770992 -79.216917  \n",
       "4  43.773136 -79.239476  "
      ]
     },
     "execution_count": 445,
     "metadata": {},
     "output_type": "execute_result"
    }
   ],
   "source": [
    "# Getting the latitude and longitude of each postal code\n",
    "# from geopy.geocoders import Nominatim\n",
    "# import geocoder\n",
    "\n",
    "# latitudes = []\n",
    "# longitudes = []\n",
    "\n",
    "# for postal_code in df['PostalCode']:\n",
    "    \n",
    "#     # address = '{}, Toronto, Ontario'.format(postal_code)\n",
    "#     # geolocator = Nominatim(user_agent=\"toronto_explorer\")\n",
    "#     # location = geolocator.geocode(address)\n",
    "#     # latitude = location.latitude\n",
    "#     # longitude = location.longitude\n",
    "    \n",
    "#     # initialize the variable to None\n",
    "#     lat_lng_coords = None\n",
    "    \n",
    "#     # loop until we get the coordinates\n",
    "#     while(lat_lng_coords is None):\n",
    "#       g = geocoder.google('{}, Toronto, Ontario'.format(postal_code))\n",
    "#       lat_lng_coords = g.latlng\n",
    "        \n",
    "#     latitudes.append(lat_lng_coords[0])\n",
    "#     longitudes.append(lat_lng_coords[1])\n",
    "#     print('The geograpical coordinate of {} are {}, {}.'.format(postal_code, latitude, longitude))\n",
    "\n",
    "url = \"https://cocl.us/Geospatial_data\"\n",
    "s = requests.get(url).content\n",
    "c = pd.read_csv(io.StringIO(s.decode('utf-8')))\n",
    "\n",
    "df['Latitude'] = c['Latitude']\n",
    "df['Longitude'] = c['Longitude']\n",
    "df.head()\n"
   ]
  },
  {
   "cell_type": "code",
   "execution_count": 446,
   "metadata": {},
   "outputs": [
    {
     "data": {
      "text/html": [
       "<div>\n",
       "<style scoped>\n",
       "    .dataframe tbody tr th:only-of-type {\n",
       "        vertical-align: middle;\n",
       "    }\n",
       "\n",
       "    .dataframe tbody tr th {\n",
       "        vertical-align: top;\n",
       "    }\n",
       "\n",
       "    .dataframe thead th {\n",
       "        text-align: right;\n",
       "    }\n",
       "</style>\n",
       "<table border=\"1\" class=\"dataframe\">\n",
       "  <thead>\n",
       "    <tr style=\"text-align: right;\">\n",
       "      <th></th>\n",
       "      <th>PostalCode</th>\n",
       "      <th>Borough</th>\n",
       "      <th>Neighborhood</th>\n",
       "      <th>Latitude</th>\n",
       "      <th>Longitude</th>\n",
       "    </tr>\n",
       "  </thead>\n",
       "  <tbody>\n",
       "    <tr>\n",
       "      <th>0</th>\n",
       "      <td>M5A</td>\n",
       "      <td>Downtown Toronto</td>\n",
       "      <td>Regent Park , Harbourfront</td>\n",
       "      <td>43.763573</td>\n",
       "      <td>-79.188711</td>\n",
       "    </tr>\n",
       "    <tr>\n",
       "      <th>1</th>\n",
       "      <td>M7A</td>\n",
       "      <td>Downtown Toronto</td>\n",
       "      <td>Queen's Park , Ontario Provincial Government</td>\n",
       "      <td>43.773136</td>\n",
       "      <td>-79.239476</td>\n",
       "    </tr>\n",
       "    <tr>\n",
       "      <th>2</th>\n",
       "      <td>M5B</td>\n",
       "      <td>Downtown Toronto</td>\n",
       "      <td>Garden District, Ryerson</td>\n",
       "      <td>43.692657</td>\n",
       "      <td>-79.264848</td>\n",
       "    </tr>\n",
       "    <tr>\n",
       "      <th>3</th>\n",
       "      <td>M5C</td>\n",
       "      <td>Downtown Toronto</td>\n",
       "      <td>St. James Town</td>\n",
       "      <td>43.799525</td>\n",
       "      <td>-79.318389</td>\n",
       "    </tr>\n",
       "    <tr>\n",
       "      <th>4</th>\n",
       "      <td>M4E</td>\n",
       "      <td>East Toronto</td>\n",
       "      <td>The Beaches</td>\n",
       "      <td>43.786947</td>\n",
       "      <td>-79.385975</td>\n",
       "    </tr>\n",
       "  </tbody>\n",
       "</table>\n",
       "</div>"
      ],
      "text/plain": [
       "  PostalCode           Borough                                  Neighborhood  \\\n",
       "0        M5A  Downtown Toronto                    Regent Park , Harbourfront   \n",
       "1        M7A  Downtown Toronto  Queen's Park , Ontario Provincial Government   \n",
       "2        M5B  Downtown Toronto                      Garden District, Ryerson   \n",
       "3        M5C  Downtown Toronto                                St. James Town   \n",
       "4        M4E      East Toronto                                   The Beaches   \n",
       "\n",
       "    Latitude  Longitude  \n",
       "0  43.763573 -79.188711  \n",
       "1  43.773136 -79.239476  \n",
       "2  43.692657 -79.264848  \n",
       "3  43.799525 -79.318389  \n",
       "4  43.786947 -79.385975  "
      ]
     },
     "execution_count": 446,
     "metadata": {},
     "output_type": "execute_result"
    }
   ],
   "source": [
    "# Exploring and clustering the neighborhoods in Toronto\n",
    "# Keep only boroughs with the word Toronto\n",
    "# df.drop(df[[\"Toronto\" not in s for s in df['Borough']]].index, axis=0, inplace=True)\n",
    "# df.reset_index(inplace = True, drop = True)\n",
    "\n",
    "df = df[[\"Toronto\" in s for s in df['Borough']]].reset_index(drop=True)\n",
    "\n",
    "df.head()"
   ]
  },
  {
   "cell_type": "code",
   "execution_count": 447,
   "metadata": {},
   "outputs": [
    {
     "name": "stdout",
     "output_type": "stream",
     "text": [
      "The geograpical coordinate of Toronto are 43.6534817, -79.3839347.\n"
     ]
    }
   ],
   "source": [
    "# get the address of Toronto\n",
    "address = 'Toronto, Canada'\n",
    "\n",
    "geolocator = Nominatim(user_agent=\"toronto_explorer\")\n",
    "location = geolocator.geocode(address)\n",
    "latitude = location.latitude\n",
    "longitude = location.longitude\n",
    "print('The geograpical coordinate of Toronto are {}, {}.'.format(latitude, longitude))"
   ]
  },
  {
   "cell_type": "code",
   "execution_count": 448,
   "metadata": {},
   "outputs": [
    {
     "data": {
      "text/html": [
       "<div style=\"width:100%;\"><div style=\"position:relative;width:100%;height:0;padding-bottom:60%;\"><iframe src=\"about:blank\" style=\"position:absolute;width:100%;height:100%;left:0;top:0;border:none !important;\" data-html=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 onload=\"this.contentDocument.open();this.contentDocument.write(atob(this.getAttribute('data-html')));this.contentDocument.close();\" allowfullscreen webkitallowfullscreen mozallowfullscreen></iframe></div></div>"
      ],
      "text/plain": [
       "<folium.folium.Map at 0x1ce6bf40>"
      ]
     },
     "execution_count": 448,
     "metadata": {},
     "output_type": "execute_result"
    }
   ],
   "source": [
    "# create map of Toronto using latitude and longitude values\n",
    "map_toronto = folium.Map(location=[latitude, longitude], zoom_start=10)\n",
    "\n",
    "# add markers to map\n",
    "for lat, lng, borough, neighborhood in zip(df['Latitude'], df['Longitude'], df['Borough'], df['Neighborhood']):\n",
    "    label = '{}, {}'.format(neighborhood, borough)\n",
    "    label = folium.Popup(label, parse_html=True)\n",
    "    folium.CircleMarker(\n",
    "        [lat, lng],\n",
    "        radius=5,\n",
    "        popup=label,\n",
    "        color='blue',\n",
    "        fill=True,\n",
    "        fill_color='#3186cc',\n",
    "        fill_opacity=0.7,\n",
    "        parse_html=False).add_to(map_toronto)  \n",
    "    \n",
    "map_toronto"
   ]
  },
  {
   "cell_type": "code",
   "execution_count": 449,
   "metadata": {},
   "outputs": [],
   "source": [
    "# Define foursquare credentials\n",
    "CLIENT_ID = 'QED5T4EOYGPHTLNIPYLSVINTSUYSVZ30GZBMENBIXAPBNVLN' # your Foursquare ID\n",
    "CLIENT_SECRET = 'DRNUECJTLEUK2HLDNIM0DMHN3IMOB0C0XHYTKYSWFV120AL1' # your Foursquare Secret\n",
    "VERSION = '20200411' # Foursquare API version\n",
    "LIMIT = 100\n",
    "radius = 500"
   ]
  },
  {
   "cell_type": "code",
   "execution_count": 450,
   "metadata": {},
   "outputs": [],
   "source": [
    "# function that extracts the category of the venue\n",
    "def get_category_type(row):\n",
    "    try:\n",
    "        categories_list = row['categories']\n",
    "    except:\n",
    "        categories_list = row['venue.categories']\n",
    "        \n",
    "    if len(categories_list) == 0:\n",
    "        return None\n",
    "    else:\n",
    "        return categories_list[0]['name']\n"
   ]
  },
  {
   "cell_type": "code",
   "execution_count": 451,
   "metadata": {},
   "outputs": [],
   "source": [
    "def getNearbyVenues(names, latitudes, longitudes, radius=500):\n",
    "    \n",
    "    venues_list=[]\n",
    "    for name, lat, lng in zip(names, latitudes, longitudes):\n",
    "        print(name)\n",
    "            \n",
    "        # create the API request URL\n",
    "        url = 'https://api.foursquare.com/v2/venues/explore?&client_id={}&client_secret={}&v={}&ll={},{}&radius={}&limit={}'.format(\n",
    "            CLIENT_ID, \n",
    "            CLIENT_SECRET, \n",
    "            VERSION, \n",
    "            lat, \n",
    "            lng, \n",
    "            radius, \n",
    "            LIMIT)\n",
    "            \n",
    "        # make the GET request\n",
    "        results = requests.get(url).json()[\"response\"]['groups'][0]['items']\n",
    "        \n",
    "        # return only relevant information for each nearby venue\n",
    "        venues_list.append([(\n",
    "            name, \n",
    "            lat, \n",
    "            lng, \n",
    "            v['venue']['name'], \n",
    "            v['venue']['location']['lat'], \n",
    "            v['venue']['location']['lng'],  \n",
    "            v['venue']['categories'][0]['name']) for v in results])\n",
    "\n",
    "    nearby_venues = pd.DataFrame([item for venue_list in venues_list for item in venue_list])\n",
    "    nearby_venues.columns = ['Neighborhood', \n",
    "                  'Neighborhood Latitude', \n",
    "                  'Neighborhood Longitude', \n",
    "                  'Venue', \n",
    "                  'Venue Latitude', \n",
    "                  'Venue Longitude', \n",
    "                  'Venue Category']\n",
    "    \n",
    "    return(nearby_venues)"
   ]
  },
  {
   "cell_type": "code",
   "execution_count": null,
   "metadata": {},
   "outputs": [
    {
     "name": "stdout",
     "output_type": "stream",
     "text": [
      "Regent Park , Harbourfront\n",
      "Queen's Park , Ontario Provincial Government\n",
      "Garden District, Ryerson\n",
      "St. James Town\n",
      "The Beaches\n",
      "Berczy Park\n",
      "Central Bay Street\n",
      "Christie\n",
      "Richmond , Adelaide , King\n",
      "Dufferin , Dovercourt Village\n",
      "Harbourfront East , Union Station , Toronto Islands\n",
      "Little Portugal , Trinity\n",
      "The Danforth West , Riverdale\n",
      "Toronto Dominion Centre , Design Exchange\n",
      "Brockton , Parkdale Village , Exhibition Place\n",
      "India Bazaar , The Beaches West\n",
      "Commerce Court , Victoria Hotel\n",
      "Studio District\n",
      "Lawrence Park\n",
      "Roselawn\n",
      "Davisville North\n",
      "Forest Hill North &amp; West\n",
      "High Park , The Junction South\n",
      "North Toronto West\n",
      "The Annex , North Midtown , Yorkville\n",
      "Parkdale , Roncesvalles\n",
      "Davisville\n",
      "University of Toronto , Harbord\n",
      "Runnymede , Swansea\n"
     ]
    }
   ],
   "source": [
    "toronto_venues = getNearbyVenues(names=df['Neighborhood'],\n",
    "                                   latitudes=df['Latitude'],\n",
    "                                   longitudes=df['Longitude']\n",
    "                                  )"
   ]
  },
  {
   "cell_type": "code",
   "execution_count": null,
   "metadata": {},
   "outputs": [],
   "source": [
    "print(toronto_venues.shape)\n",
    "toronto_venues.head()"
   ]
  },
  {
   "cell_type": "code",
   "execution_count": null,
   "metadata": {},
   "outputs": [],
   "source": [
    "toronto_venues.groupby('Neighborhood').count()"
   ]
  },
  {
   "cell_type": "code",
   "execution_count": null,
   "metadata": {},
   "outputs": [],
   "source": [
    "print('There are {} uniques categories.'.format(len(toronto_venues['Venue Category'].unique())))"
   ]
  },
  {
   "cell_type": "code",
   "execution_count": null,
   "metadata": {},
   "outputs": [],
   "source": [
    "# Analyse each neighborhood\n",
    "# one hot encoding\n",
    "toronto_onehot = pd.get_dummies(toronto_venues[['Venue Category']], prefix=\"\", prefix_sep=\"\")\n",
    "# columns = toronto_onehot.columns\n",
    "\n",
    "# add neighborhood column back to dataframe\n",
    "toronto_onehot['Neighborhood'] = toronto_venues['Neighborhood'] \n",
    "\n",
    "# move neighborhood column to the first column\n",
    "# fixed_columns = ['Neighborhood'] + list(columns)\n",
    "# toronto_onehot = toronto_onehot[fixed_columns]\n",
    "\n",
    "toronto_onehot.head()"
   ]
  },
  {
   "cell_type": "code",
   "execution_count": null,
   "metadata": {},
   "outputs": [],
   "source": [
    "toronto_onehot.shape"
   ]
  },
  {
   "cell_type": "code",
   "execution_count": null,
   "metadata": {},
   "outputs": [],
   "source": [
    "toronto_grouped = toronto_onehot.groupby('Neighborhood').mean().reset_index()\n",
    "toronto_grouped"
   ]
  },
  {
   "cell_type": "code",
   "execution_count": null,
   "metadata": {},
   "outputs": [],
   "source": [
    "toronto_grouped.shape"
   ]
  },
  {
   "cell_type": "code",
   "execution_count": null,
   "metadata": {},
   "outputs": [],
   "source": [
    "num_top_venues = 5\n",
    "\n",
    "for hood in toronto_grouped['Neighborhood']:\n",
    "    print(\"----\"+hood+\"----\")\n",
    "    temp = toronto_grouped[toronto_grouped['Neighborhood'] == hood].T.reset_index()\n",
    "    temp.columns = ['venue','freq']\n",
    "    temp = temp.iloc[1:]\n",
    "    temp['freq'] = temp['freq'].astype(float)\n",
    "    temp = temp.round({'freq': 2})\n",
    "    print(temp.sort_values('freq', ascending=False).reset_index(drop=True).head(num_top_venues))\n",
    "    print('\\n')"
   ]
  },
  {
   "cell_type": "code",
   "execution_count": null,
   "metadata": {},
   "outputs": [],
   "source": [
    "def return_most_common_venues(row, num_top_venues):\n",
    "    row_categories = row.iloc[1:]\n",
    "    row_categories_sorted = row_categories.sort_values(ascending=False)\n",
    "    \n",
    "    return row_categories_sorted.index.values[0:num_top_venues]"
   ]
  },
  {
   "cell_type": "code",
   "execution_count": null,
   "metadata": {},
   "outputs": [],
   "source": [
    "num_top_venues = 10\n",
    "\n",
    "indicators = ['st', 'nd', 'rd']\n",
    "\n",
    "# create columns according to number of top venues\n",
    "columns = ['Neighborhood']\n",
    "for ind in np.arange(num_top_venues):\n",
    "    try:\n",
    "        columns.append('{}{} Most Common Venue'.format(ind+1, indicators[ind]))\n",
    "    except:\n",
    "        columns.append('{}th Most Common Venue'.format(ind+1))\n",
    "\n",
    "# create a new dataframe\n",
    "neighborhoods_venues_sorted = pd.DataFrame(columns=columns)\n",
    "neighborhoods_venues_sorted['Neighborhood'] = toronto_grouped['Neighborhood']\n",
    "\n",
    "for ind in np.arange(toronto_grouped.shape[0]):\n",
    "    neighborhoods_venues_sorted.iloc[ind, 1:] = return_most_common_venues(toronto_grouped.iloc[ind, :], num_top_venues)\n",
    "\n",
    "neighborhoods_venues_sorted.head()"
   ]
  },
  {
   "cell_type": "code",
   "execution_count": null,
   "metadata": {},
   "outputs": [],
   "source": [
    "# set number of clusters\n",
    "kclusters = 5\n",
    "\n",
    "toronto_grouped_clustering = toronto_grouped.drop('Neighborhood', 1)\n",
    "\n",
    "# run k-means clustering\n",
    "kmeans = KMeans(n_clusters=kclusters, random_state=0).fit(toronto_grouped_clustering)\n",
    "\n",
    "# check cluster labels generated for each row in the dataframe\n",
    "kmeans.labels_[0:10]"
   ]
  },
  {
   "cell_type": "code",
   "execution_count": null,
   "metadata": {},
   "outputs": [],
   "source": [
    "import math\n",
    "# add clustering labels\n",
    "neighborhoods_venues_sorted.insert(0, 'Cluster Labels', kmeans.labels_)\n",
    "\n",
    "toronto_merged = df\n",
    "\n",
    "# merge toronto_grouped with toronto_data to add latitude/longitude for each neighborhood\n",
    "toronto_merged = toronto_merged.join(neighborhoods_venues_sorted.set_index('Neighborhood'), on='Neighborhood')\n",
    "toronto_merged = toronto_merged[[not i for i in pd.isnull(toronto_merged['Cluster Labels'])]].reset_index(drop=True)\n",
    "\n",
    "toronto_merged.head()\n",
    "\n",
    "toronto_merged['Cluster Labels']"
   ]
  },
  {
   "cell_type": "code",
   "execution_count": null,
   "metadata": {},
   "outputs": [],
   "source": [
    "# create map\n",
    "map_clusters = folium.Map(location=[latitude, longitude], zoom_start=11)\n",
    "\n",
    "# set color scheme for the clusters\n",
    "x = np.arange(kclusters)\n",
    "ys = [i + x + (i*x)**2 for i in range(kclusters)]\n",
    "colors_array = cm.rainbow(np.linspace(0, 1, len(ys)))\n",
    "rainbow = [colors.rgb2hex(i) for i in colors_array]\n",
    "\n",
    "# add markers to the map\n",
    "markers_colors = []\n",
    "for lat, lon, poi, cluster in zip(toronto_merged['Latitude'], toronto_merged['Longitude'], toronto_merged['Neighborhood'], toronto_merged['Cluster Labels']):\n",
    "    label = folium.Popup(str(poi) + ' Cluster ' + str(cluster), parse_html=True)\n",
    "    folium.CircleMarker(\n",
    "        [lat, lon],\n",
    "        radius=5,\n",
    "        popup=label,\n",
    "        color=rainbow[int(cluster)-1],\n",
    "        fill=True,\n",
    "        fill_color=rainbow[int(cluster)-1],\n",
    "        fill_opacity=0.7).add_to(map_clusters)\n",
    "       \n",
    "map_clusters"
   ]
  },
  {
   "cell_type": "code",
   "execution_count": null,
   "metadata": {},
   "outputs": [],
   "source": [
    "toronto_merged.loc[toronto_merged['Cluster Labels'] == 0, toronto_merged.columns[[1] + list(range(5, toronto_merged.shape[1]))]]"
   ]
  },
  {
   "cell_type": "code",
   "execution_count": null,
   "metadata": {},
   "outputs": [],
   "source": [
    "toronto_merged.loc[toronto_merged['Cluster Labels'] == 1, toronto_merged.columns[[1] + list(range(5, toronto_merged.shape[1]))]]"
   ]
  },
  {
   "cell_type": "code",
   "execution_count": null,
   "metadata": {},
   "outputs": [],
   "source": [
    "toronto_merged.loc[toronto_merged['Cluster Labels'] == 2, toronto_merged.columns[[1] + list(range(5, toronto_merged.shape[1]))]]"
   ]
  },
  {
   "cell_type": "code",
   "execution_count": null,
   "metadata": {},
   "outputs": [],
   "source": [
    "toronto_merged.loc[toronto_merged['Cluster Labels'] == 3, toronto_merged.columns[[1] + list(range(5, toronto_merged.shape[1]))]]"
   ]
  },
  {
   "cell_type": "code",
   "execution_count": null,
   "metadata": {},
   "outputs": [],
   "source": [
    "toronto_merged.loc[toronto_merged['Cluster Labels'] == 4, toronto_merged.columns[[1] + list(range(5, toronto_merged.shape[1]))]]"
   ]
  },
  {
   "cell_type": "code",
   "execution_count": null,
   "metadata": {},
   "outputs": [],
   "source": []
  }
 ],
 "metadata": {
  "kernelspec": {
   "display_name": "Python 3",
   "language": "python",
   "name": "python3"
  },
  "language_info": {
   "codemirror_mode": {
    "name": "ipython",
    "version": 3
   },
   "file_extension": ".py",
   "mimetype": "text/x-python",
   "name": "python",
   "nbconvert_exporter": "python",
   "pygments_lexer": "ipython3",
   "version": "3.8.1"
  }
 },
 "nbformat": 4,
 "nbformat_minor": 4
}
