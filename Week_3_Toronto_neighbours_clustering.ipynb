{
 "cells": [
  {
   "cell_type": "code",
   "execution_count": 471,
   "metadata": {},
   "outputs": [],
   "source": [
    "# Import required libraries\n",
    "import pandas as pd\n",
    "pd.set_option('display.max_columns', None)\n",
    "pd.set_option('display.max_rows', None)\n",
    "import numpy as np\n",
    "import requests\n",
    "from bs4 import BeautifulSoup\n",
    "import io\n",
    "import folium\n",
    "import matplotlib.cm as cm\n",
    "import matplotlib.colors as colors\n",
    "from sklearn.cluster import KMeans\n",
    "import folium\n",
    "from geopy.geocoders import Nominatim"
   ]
  },
  {
   "cell_type": "code",
   "execution_count": 472,
   "metadata": {},
   "outputs": [],
   "source": [
    "# Get data from wikipedia page, process the data to extract table\n",
    "website_url = requests.get('https://en.wikipedia.org/wiki/List_of_postal_codes_of_Canada:_M').text\n",
    "soup = BeautifulSoup(website_url,'html')\n",
    "# print(soup.prettify())\n",
    "postal_codes_table = soup.find('table',{'class':'wikitable'})\n",
    "# postal_codes_table"
   ]
  },
  {
   "cell_type": "code",
   "execution_count": 473,
   "metadata": {},
   "outputs": [],
   "source": [
    "# Extracting postal codes and other data\n",
    "rows = postal_codes_table.findAll('tr')[1:]\n",
    "postal_codes = []\n",
    "boroughs = []\n",
    "neighborhoods = []\n",
    "\n",
    "for row in rows:\n",
    "    postal_codes.append(row.findAll('td')[0].renderContents().strip().decode(\"utf-8\") )\n",
    "    boroughs.append(row.findAll('td')[1].renderContents().strip().decode(\"utf-8\") )\n",
    "    neighborhoods.append(row.findAll('td')[2].renderContents().strip().decode(\"utf-8\") )\n",
    "    \n",
    "# print('postal_codes list: ' + str(postal_codes))\n",
    "# print('boroughs list: ' + str(boroughs))\n",
    "# print('neighborhoods list: ' + str(neighborhoods))"
   ]
  },
  {
   "cell_type": "code",
   "execution_count": 474,
   "metadata": {},
   "outputs": [
    {
     "data": {
      "text/html": [
       "<div>\n",
       "<style scoped>\n",
       "    .dataframe tbody tr th:only-of-type {\n",
       "        vertical-align: middle;\n",
       "    }\n",
       "\n",
       "    .dataframe tbody tr th {\n",
       "        vertical-align: top;\n",
       "    }\n",
       "\n",
       "    .dataframe thead th {\n",
       "        text-align: right;\n",
       "    }\n",
       "</style>\n",
       "<table border=\"1\" class=\"dataframe\">\n",
       "  <thead>\n",
       "    <tr style=\"text-align: right;\">\n",
       "      <th></th>\n",
       "      <th>PostalCode</th>\n",
       "      <th>Borough</th>\n",
       "      <th>Neighborhood</th>\n",
       "    </tr>\n",
       "  </thead>\n",
       "  <tbody>\n",
       "    <tr>\n",
       "      <th>0</th>\n",
       "      <td>M1A</td>\n",
       "      <td>Not assigned</td>\n",
       "      <td></td>\n",
       "    </tr>\n",
       "    <tr>\n",
       "      <th>1</th>\n",
       "      <td>M2A</td>\n",
       "      <td>Not assigned</td>\n",
       "      <td></td>\n",
       "    </tr>\n",
       "    <tr>\n",
       "      <th>2</th>\n",
       "      <td>M3A</td>\n",
       "      <td>North York</td>\n",
       "      <td>Parkwoods</td>\n",
       "    </tr>\n",
       "    <tr>\n",
       "      <th>3</th>\n",
       "      <td>M4A</td>\n",
       "      <td>North York</td>\n",
       "      <td>Victoria Village</td>\n",
       "    </tr>\n",
       "    <tr>\n",
       "      <th>4</th>\n",
       "      <td>M5A</td>\n",
       "      <td>Downtown Toronto</td>\n",
       "      <td>Regent Park / Harbourfront</td>\n",
       "    </tr>\n",
       "  </tbody>\n",
       "</table>\n",
       "</div>"
      ],
      "text/plain": [
       "  PostalCode           Borough                Neighborhood\n",
       "0        M1A      Not assigned                            \n",
       "1        M2A      Not assigned                            \n",
       "2        M3A        North York                   Parkwoods\n",
       "3        M4A        North York            Victoria Village\n",
       "4        M5A  Downtown Toronto  Regent Park / Harbourfront"
      ]
     },
     "execution_count": 474,
     "metadata": {},
     "output_type": "execute_result"
    }
   ],
   "source": [
    "# Create a pandas dataframe\n",
    "columns = ['PostalCode', 'Borough', 'Neighborhood']\n",
    "df = pd.DataFrame(columns = columns) \n",
    "df['PostalCode'] = postal_codes\n",
    "df['Borough'] = boroughs\n",
    "df['Neighborhood'] = neighborhoods\n",
    "df.head()"
   ]
  },
  {
   "cell_type": "code",
   "execution_count": 475,
   "metadata": {},
   "outputs": [
    {
     "data": {
      "text/html": [
       "<div>\n",
       "<style scoped>\n",
       "    .dataframe tbody tr th:only-of-type {\n",
       "        vertical-align: middle;\n",
       "    }\n",
       "\n",
       "    .dataframe tbody tr th {\n",
       "        vertical-align: top;\n",
       "    }\n",
       "\n",
       "    .dataframe thead th {\n",
       "        text-align: right;\n",
       "    }\n",
       "</style>\n",
       "<table border=\"1\" class=\"dataframe\">\n",
       "  <thead>\n",
       "    <tr style=\"text-align: right;\">\n",
       "      <th></th>\n",
       "      <th>PostalCode</th>\n",
       "      <th>Borough</th>\n",
       "      <th>Neighborhood</th>\n",
       "    </tr>\n",
       "  </thead>\n",
       "  <tbody>\n",
       "    <tr>\n",
       "      <th>0</th>\n",
       "      <td>M3A</td>\n",
       "      <td>North York</td>\n",
       "      <td>Parkwoods</td>\n",
       "    </tr>\n",
       "    <tr>\n",
       "      <th>1</th>\n",
       "      <td>M4A</td>\n",
       "      <td>North York</td>\n",
       "      <td>Victoria Village</td>\n",
       "    </tr>\n",
       "    <tr>\n",
       "      <th>2</th>\n",
       "      <td>M5A</td>\n",
       "      <td>Downtown Toronto</td>\n",
       "      <td>Regent Park , Harbourfront</td>\n",
       "    </tr>\n",
       "    <tr>\n",
       "      <th>3</th>\n",
       "      <td>M6A</td>\n",
       "      <td>North York</td>\n",
       "      <td>Lawrence Manor , Lawrence Heights</td>\n",
       "    </tr>\n",
       "    <tr>\n",
       "      <th>4</th>\n",
       "      <td>M7A</td>\n",
       "      <td>Downtown Toronto</td>\n",
       "      <td>Queen's Park , Ontario Provincial Government</td>\n",
       "    </tr>\n",
       "  </tbody>\n",
       "</table>\n",
       "</div>"
      ],
      "text/plain": [
       "  PostalCode           Borough                                  Neighborhood\n",
       "0        M3A        North York                                     Parkwoods\n",
       "1        M4A        North York                              Victoria Village\n",
       "2        M5A  Downtown Toronto                    Regent Park , Harbourfront\n",
       "3        M6A        North York             Lawrence Manor , Lawrence Heights\n",
       "4        M7A  Downtown Toronto  Queen's Park , Ontario Provincial Government"
      ]
     },
     "execution_count": 475,
     "metadata": {},
     "output_type": "execute_result"
    }
   ],
   "source": [
    "# Remove all rows with Borough = 'Not assigned'\n",
    "df.drop(df[df['Borough'] == 'Not assigned'].index, axis=0, inplace=True)\n",
    "df.reset_index(inplace = True, drop = True)\n",
    "\n",
    "# Replace '/' by ','\n",
    "for k in range(1,df.shape[0]):\n",
    "    neigh = df['Neighborhood'].iloc[k] \n",
    "    if neigh.find('/') > 0:\n",
    "        df['Neighborhood'].iloc[k] = ','.join(df['Neighborhood'].iloc[k].split('/'))\n",
    "    \n",
    "# If a cell has a borough but a Not assigned neighborhood, then the neighborhood will be the same as the borough.\n",
    "df.loc[df['Neighborhood'] == 'Not assigned']['Neighborhood'] = df.loc[df['Neighborhood'] == 'Not assigned']['Borough']\n",
    "\n",
    "df.head()"
   ]
  },
  {
   "cell_type": "code",
   "execution_count": 476,
   "metadata": {},
   "outputs": [
    {
     "data": {
      "text/plain": [
       "(103, 3)"
      ]
     },
     "execution_count": 476,
     "metadata": {},
     "output_type": "execute_result"
    }
   ],
   "source": [
    "df.shape"
   ]
  },
  {
   "cell_type": "code",
   "execution_count": 477,
   "metadata": {},
   "outputs": [
    {
     "data": {
      "text/html": [
       "<div>\n",
       "<style scoped>\n",
       "    .dataframe tbody tr th:only-of-type {\n",
       "        vertical-align: middle;\n",
       "    }\n",
       "\n",
       "    .dataframe tbody tr th {\n",
       "        vertical-align: top;\n",
       "    }\n",
       "\n",
       "    .dataframe thead th {\n",
       "        text-align: right;\n",
       "    }\n",
       "</style>\n",
       "<table border=\"1\" class=\"dataframe\">\n",
       "  <thead>\n",
       "    <tr style=\"text-align: right;\">\n",
       "      <th></th>\n",
       "      <th>PostalCode</th>\n",
       "      <th>Borough</th>\n",
       "      <th>Neighborhood</th>\n",
       "      <th>Latitude</th>\n",
       "      <th>Longitude</th>\n",
       "    </tr>\n",
       "  </thead>\n",
       "  <tbody>\n",
       "    <tr>\n",
       "      <th>0</th>\n",
       "      <td>M3A</td>\n",
       "      <td>North York</td>\n",
       "      <td>Parkwoods</td>\n",
       "      <td>43.806686</td>\n",
       "      <td>-79.194353</td>\n",
       "    </tr>\n",
       "    <tr>\n",
       "      <th>1</th>\n",
       "      <td>M4A</td>\n",
       "      <td>North York</td>\n",
       "      <td>Victoria Village</td>\n",
       "      <td>43.784535</td>\n",
       "      <td>-79.160497</td>\n",
       "    </tr>\n",
       "    <tr>\n",
       "      <th>2</th>\n",
       "      <td>M5A</td>\n",
       "      <td>Downtown Toronto</td>\n",
       "      <td>Regent Park , Harbourfront</td>\n",
       "      <td>43.763573</td>\n",
       "      <td>-79.188711</td>\n",
       "    </tr>\n",
       "    <tr>\n",
       "      <th>3</th>\n",
       "      <td>M6A</td>\n",
       "      <td>North York</td>\n",
       "      <td>Lawrence Manor , Lawrence Heights</td>\n",
       "      <td>43.770992</td>\n",
       "      <td>-79.216917</td>\n",
       "    </tr>\n",
       "    <tr>\n",
       "      <th>4</th>\n",
       "      <td>M7A</td>\n",
       "      <td>Downtown Toronto</td>\n",
       "      <td>Queen's Park , Ontario Provincial Government</td>\n",
       "      <td>43.773136</td>\n",
       "      <td>-79.239476</td>\n",
       "    </tr>\n",
       "  </tbody>\n",
       "</table>\n",
       "</div>"
      ],
      "text/plain": [
       "  PostalCode           Borough                                  Neighborhood  \\\n",
       "0        M3A        North York                                     Parkwoods   \n",
       "1        M4A        North York                              Victoria Village   \n",
       "2        M5A  Downtown Toronto                    Regent Park , Harbourfront   \n",
       "3        M6A        North York             Lawrence Manor , Lawrence Heights   \n",
       "4        M7A  Downtown Toronto  Queen's Park , Ontario Provincial Government   \n",
       "\n",
       "    Latitude  Longitude  \n",
       "0  43.806686 -79.194353  \n",
       "1  43.784535 -79.160497  \n",
       "2  43.763573 -79.188711  \n",
       "3  43.770992 -79.216917  \n",
       "4  43.773136 -79.239476  "
      ]
     },
     "execution_count": 477,
     "metadata": {},
     "output_type": "execute_result"
    }
   ],
   "source": [
    "# Getting the latitude and longitude of each postal code\n",
    "# from geopy.geocoders import Nominatim\n",
    "# import geocoder\n",
    "\n",
    "# latitudes = []\n",
    "# longitudes = []\n",
    "\n",
    "# for postal_code in df['PostalCode']:\n",
    "    \n",
    "#     # address = '{}, Toronto, Ontario'.format(postal_code)\n",
    "#     # geolocator = Nominatim(user_agent=\"toronto_explorer\")\n",
    "#     # location = geolocator.geocode(address)\n",
    "#     # latitude = location.latitude\n",
    "#     # longitude = location.longitude\n",
    "    \n",
    "#     # initialize the variable to None\n",
    "#     lat_lng_coords = None\n",
    "    \n",
    "#     # loop until we get the coordinates\n",
    "#     while(lat_lng_coords is None):\n",
    "#       g = geocoder.google('{}, Toronto, Ontario'.format(postal_code))\n",
    "#       lat_lng_coords = g.latlng\n",
    "        \n",
    "#     latitudes.append(lat_lng_coords[0])\n",
    "#     longitudes.append(lat_lng_coords[1])\n",
    "#     print('The geograpical coordinate of {} are {}, {}.'.format(postal_code, latitude, longitude))\n",
    "\n",
    "url = \"https://cocl.us/Geospatial_data\"\n",
    "s = requests.get(url).content\n",
    "c = pd.read_csv(io.StringIO(s.decode('utf-8')))\n",
    "\n",
    "df['Latitude'] = c['Latitude']\n",
    "df['Longitude'] = c['Longitude']\n",
    "df.head()\n"
   ]
  },
  {
   "cell_type": "code",
   "execution_count": 478,
   "metadata": {},
   "outputs": [
    {
     "data": {
      "text/html": [
       "<div>\n",
       "<style scoped>\n",
       "    .dataframe tbody tr th:only-of-type {\n",
       "        vertical-align: middle;\n",
       "    }\n",
       "\n",
       "    .dataframe tbody tr th {\n",
       "        vertical-align: top;\n",
       "    }\n",
       "\n",
       "    .dataframe thead th {\n",
       "        text-align: right;\n",
       "    }\n",
       "</style>\n",
       "<table border=\"1\" class=\"dataframe\">\n",
       "  <thead>\n",
       "    <tr style=\"text-align: right;\">\n",
       "      <th></th>\n",
       "      <th>PostalCode</th>\n",
       "      <th>Borough</th>\n",
       "      <th>Neighborhood</th>\n",
       "      <th>Latitude</th>\n",
       "      <th>Longitude</th>\n",
       "    </tr>\n",
       "  </thead>\n",
       "  <tbody>\n",
       "    <tr>\n",
       "      <th>0</th>\n",
       "      <td>M5A</td>\n",
       "      <td>Downtown Toronto</td>\n",
       "      <td>Regent Park , Harbourfront</td>\n",
       "      <td>43.763573</td>\n",
       "      <td>-79.188711</td>\n",
       "    </tr>\n",
       "    <tr>\n",
       "      <th>1</th>\n",
       "      <td>M7A</td>\n",
       "      <td>Downtown Toronto</td>\n",
       "      <td>Queen's Park , Ontario Provincial Government</td>\n",
       "      <td>43.773136</td>\n",
       "      <td>-79.239476</td>\n",
       "    </tr>\n",
       "    <tr>\n",
       "      <th>2</th>\n",
       "      <td>M5B</td>\n",
       "      <td>Downtown Toronto</td>\n",
       "      <td>Garden District, Ryerson</td>\n",
       "      <td>43.692657</td>\n",
       "      <td>-79.264848</td>\n",
       "    </tr>\n",
       "    <tr>\n",
       "      <th>3</th>\n",
       "      <td>M5C</td>\n",
       "      <td>Downtown Toronto</td>\n",
       "      <td>St. James Town</td>\n",
       "      <td>43.799525</td>\n",
       "      <td>-79.318389</td>\n",
       "    </tr>\n",
       "    <tr>\n",
       "      <th>4</th>\n",
       "      <td>M4E</td>\n",
       "      <td>East Toronto</td>\n",
       "      <td>The Beaches</td>\n",
       "      <td>43.786947</td>\n",
       "      <td>-79.385975</td>\n",
       "    </tr>\n",
       "  </tbody>\n",
       "</table>\n",
       "</div>"
      ],
      "text/plain": [
       "  PostalCode           Borough                                  Neighborhood  \\\n",
       "0        M5A  Downtown Toronto                    Regent Park , Harbourfront   \n",
       "1        M7A  Downtown Toronto  Queen's Park , Ontario Provincial Government   \n",
       "2        M5B  Downtown Toronto                      Garden District, Ryerson   \n",
       "3        M5C  Downtown Toronto                                St. James Town   \n",
       "4        M4E      East Toronto                                   The Beaches   \n",
       "\n",
       "    Latitude  Longitude  \n",
       "0  43.763573 -79.188711  \n",
       "1  43.773136 -79.239476  \n",
       "2  43.692657 -79.264848  \n",
       "3  43.799525 -79.318389  \n",
       "4  43.786947 -79.385975  "
      ]
     },
     "execution_count": 478,
     "metadata": {},
     "output_type": "execute_result"
    }
   ],
   "source": [
    "# Exploring and clustering the neighborhoods in Toronto\n",
    "# Keep only boroughs with the word Toronto\n",
    "# df.drop(df[[\"Toronto\" not in s for s in df['Borough']]].index, axis=0, inplace=True)\n",
    "# df.reset_index(inplace = True, drop = True)\n",
    "\n",
    "df = df[[\"Toronto\" in s for s in df['Borough']]].reset_index(drop=True)\n",
    "\n",
    "df.head()"
   ]
  },
  {
   "cell_type": "code",
   "execution_count": 479,
   "metadata": {},
   "outputs": [
    {
     "name": "stdout",
     "output_type": "stream",
     "text": [
      "The geograpical coordinate of Toronto are 43.6534817, -79.3839347.\n"
     ]
    }
   ],
   "source": [
    "# get the address of Toronto\n",
    "address = 'Toronto, Canada'\n",
    "\n",
    "geolocator = Nominatim(user_agent=\"toronto_explorer\")\n",
    "location = geolocator.geocode(address)\n",
    "latitude = location.latitude\n",
    "longitude = location.longitude\n",
    "print('The geograpical coordinate of Toronto are {}, {}.'.format(latitude, longitude))"
   ]
  },
  {
   "cell_type": "code",
   "execution_count": 480,
   "metadata": {},
   "outputs": [
    {
     "data": {
      "text/html": [
       "<div style=\"width:100%;\"><div style=\"position:relative;width:100%;height:0;padding-bottom:60%;\"><iframe src=\"about:blank\" style=\"position:absolute;width:100%;height:100%;left:0;top:0;border:none !important;\" data-html=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 onload=\"this.contentDocument.open();this.contentDocument.write(atob(this.getAttribute('data-html')));this.contentDocument.close();\" allowfullscreen webkitallowfullscreen mozallowfullscreen></iframe></div></div>"
      ],
      "text/plain": [
       "<folium.folium.Map at 0x1d1e8778>"
      ]
     },
     "execution_count": 480,
     "metadata": {},
     "output_type": "execute_result"
    }
   ],
   "source": [
    "# create map of Toronto using latitude and longitude values\n",
    "map_toronto = folium.Map(location=[latitude, longitude], zoom_start=10)\n",
    "\n",
    "# add markers to map\n",
    "for lat, lng, borough, neighborhood in zip(df['Latitude'], df['Longitude'], df['Borough'], df['Neighborhood']):\n",
    "    label = '{}, {}'.format(neighborhood, borough)\n",
    "    label = folium.Popup(label, parse_html=True)\n",
    "    folium.CircleMarker(\n",
    "        [lat, lng],\n",
    "        radius=5,\n",
    "        popup=label,\n",
    "        color='blue',\n",
    "        fill=True,\n",
    "        fill_color='#3186cc',\n",
    "        fill_opacity=0.7,\n",
    "        parse_html=False).add_to(map_toronto)  \n",
    "    \n",
    "map_toronto"
   ]
  },
  {
   "cell_type": "code",
   "execution_count": 481,
   "metadata": {},
   "outputs": [],
   "source": [
    "# Define foursquare credentials\n",
    "CLIENT_ID = 'QED5T4EOYGPHTLNIPYLSVINTSUYSVZ30GZBMENBIXAPBNVLN' # your Foursquare ID\n",
    "CLIENT_SECRET = 'DRNUECJTLEUK2HLDNIM0DMHN3IMOB0C0XHYTKYSWFV120AL1' # your Foursquare Secret\n",
    "VERSION = '20200411' # Foursquare API version\n",
    "LIMIT = 100\n",
    "radius = 500"
   ]
  },
  {
   "cell_type": "code",
   "execution_count": 482,
   "metadata": {},
   "outputs": [],
   "source": [
    "# function that extracts the category of the venue\n",
    "def get_category_type(row):\n",
    "    try:\n",
    "        categories_list = row['categories']\n",
    "    except:\n",
    "        categories_list = row['venue.categories']\n",
    "        \n",
    "    if len(categories_list) == 0:\n",
    "        return None\n",
    "    else:\n",
    "        return categories_list[0]['name']\n"
   ]
  },
  {
   "cell_type": "code",
   "execution_count": 483,
   "metadata": {},
   "outputs": [],
   "source": [
    "def getNearbyVenues(names, latitudes, longitudes, radius=500):\n",
    "    \n",
    "    venues_list=[]\n",
    "    for name, lat, lng in zip(names, latitudes, longitudes):\n",
    "        print(name)\n",
    "            \n",
    "        # create the API request URL\n",
    "        url = 'https://api.foursquare.com/v2/venues/explore?&client_id={}&client_secret={}&v={}&ll={},{}&radius={}&limit={}'.format(\n",
    "            CLIENT_ID, \n",
    "            CLIENT_SECRET, \n",
    "            VERSION, \n",
    "            lat, \n",
    "            lng, \n",
    "            radius, \n",
    "            LIMIT)\n",
    "            \n",
    "        # make the GET request\n",
    "        results = requests.get(url).json()[\"response\"]['groups'][0]['items']\n",
    "        \n",
    "        # return only relevant information for each nearby venue\n",
    "        venues_list.append([(\n",
    "            name, \n",
    "            lat, \n",
    "            lng, \n",
    "            v['venue']['name'], \n",
    "            v['venue']['location']['lat'], \n",
    "            v['venue']['location']['lng'],  \n",
    "            v['venue']['categories'][0]['name']) for v in results])\n",
    "\n",
    "    nearby_venues = pd.DataFrame([item for venue_list in venues_list for item in venue_list])\n",
    "    nearby_venues.columns = ['Neighborhood', \n",
    "                  'Neighborhood Latitude', \n",
    "                  'Neighborhood Longitude', \n",
    "                  'Venue', \n",
    "                  'Venue Latitude', \n",
    "                  'Venue Longitude', \n",
    "                  'Venue Category']\n",
    "    \n",
    "    return(nearby_venues)"
   ]
  },
  {
   "cell_type": "code",
   "execution_count": null,
   "metadata": {},
   "outputs": [
    {
     "name": "stdout",
     "output_type": "stream",
     "text": [
      "Regent Park , Harbourfront\n",
      "Queen's Park , Ontario Provincial Government\n",
      "Garden District, Ryerson\n",
      "St. James Town\n",
      "The Beaches\n",
      "Berczy Park\n",
      "Central Bay Street\n",
      "Christie\n",
      "Richmond , Adelaide , King\n",
      "Dufferin , Dovercourt Village\n",
      "Harbourfront East , Union Station , Toronto Islands\n",
      "Little Portugal , Trinity\n",
      "The Danforth West , Riverdale\n",
      "Toronto Dominion Centre , Design Exchange\n",
      "Brockton , Parkdale Village , Exhibition Place\n",
      "India Bazaar , The Beaches West\n",
      "Commerce Court , Victoria Hotel\n",
      "Studio District\n"
     ]
    }
   ],
   "source": [
    "toronto_venues = getNearbyVenues(names=df['Neighborhood'],\n",
    "                                   latitudes=df['Latitude'],\n",
    "                                   longitudes=df['Longitude']\n",
    "                                  )"
   ]
  },
  {
   "cell_type": "code",
   "execution_count": null,
   "metadata": {},
   "outputs": [],
   "source": [
    "print(toronto_venues.shape)\n",
    "toronto_venues.head()"
   ]
  },
  {
   "cell_type": "code",
   "execution_count": null,
   "metadata": {},
   "outputs": [],
   "source": [
    "toronto_venues.groupby('Neighborhood').count()"
   ]
  },
  {
   "cell_type": "code",
   "execution_count": null,
   "metadata": {},
   "outputs": [],
   "source": [
    "print('There are {} uniques categories.'.format(len(toronto_venues['Venue Category'].unique())))"
   ]
  },
  {
   "cell_type": "code",
   "execution_count": null,
   "metadata": {},
   "outputs": [],
   "source": [
    "# Analyse each neighborhood\n",
    "# one hot encoding\n",
    "toronto_onehot = pd.get_dummies(toronto_venues[['Venue Category']], prefix=\"\", prefix_sep=\"\")\n",
    "# columns = toronto_onehot.columns\n",
    "\n",
    "# add neighborhood column back to dataframe\n",
    "toronto_onehot['Neighborhood'] = toronto_venues['Neighborhood'] \n",
    "\n",
    "# move neighborhood column to the first column\n",
    "# fixed_columns = ['Neighborhood'] + list(columns)\n",
    "# toronto_onehot = toronto_onehot[fixed_columns]\n",
    "\n",
    "toronto_onehot.head()"
   ]
  },
  {
   "cell_type": "code",
   "execution_count": null,
   "metadata": {},
   "outputs": [],
   "source": [
    "toronto_onehot.shape"
   ]
  },
  {
   "cell_type": "code",
   "execution_count": null,
   "metadata": {},
   "outputs": [],
   "source": [
    "toronto_grouped = toronto_onehot.groupby('Neighborhood').mean().reset_index()\n",
    "toronto_grouped"
   ]
  },
  {
   "cell_type": "code",
   "execution_count": null,
   "metadata": {},
   "outputs": [],
   "source": [
    "toronto_grouped.shape"
   ]
  },
  {
   "cell_type": "code",
   "execution_count": null,
   "metadata": {},
   "outputs": [],
   "source": [
    "num_top_venues = 5\n",
    "\n",
    "for hood in toronto_grouped['Neighborhood']:\n",
    "    print(\"----\"+hood+\"----\")\n",
    "    temp = toronto_grouped[toronto_grouped['Neighborhood'] == hood].T.reset_index()\n",
    "    temp.columns = ['venue','freq']\n",
    "    temp = temp.iloc[1:]\n",
    "    temp['freq'] = temp['freq'].astype(float)\n",
    "    temp = temp.round({'freq': 2})\n",
    "    print(temp.sort_values('freq', ascending=False).reset_index(drop=True).head(num_top_venues))\n",
    "    print('\\n')"
   ]
  },
  {
   "cell_type": "code",
   "execution_count": null,
   "metadata": {},
   "outputs": [],
   "source": [
    "def return_most_common_venues(row, num_top_venues):\n",
    "    row_categories = row.iloc[1:]\n",
    "    row_categories_sorted = row_categories.sort_values(ascending=False)\n",
    "    \n",
    "    return row_categories_sorted.index.values[0:num_top_venues]"
   ]
  },
  {
   "cell_type": "code",
   "execution_count": null,
   "metadata": {},
   "outputs": [],
   "source": [
    "num_top_venues = 10\n",
    "\n",
    "indicators = ['st', 'nd', 'rd']\n",
    "\n",
    "# create columns according to number of top venues\n",
    "columns = ['Neighborhood']\n",
    "for ind in np.arange(num_top_venues):\n",
    "    try:\n",
    "        columns.append('{}{} Most Common Venue'.format(ind+1, indicators[ind]))\n",
    "    except:\n",
    "        columns.append('{}th Most Common Venue'.format(ind+1))\n",
    "\n",
    "# create a new dataframe\n",
    "neighborhoods_venues_sorted = pd.DataFrame(columns=columns)\n",
    "neighborhoods_venues_sorted['Neighborhood'] = toronto_grouped['Neighborhood']\n",
    "\n",
    "for ind in np.arange(toronto_grouped.shape[0]):\n",
    "    neighborhoods_venues_sorted.iloc[ind, 1:] = return_most_common_venues(toronto_grouped.iloc[ind, :], num_top_venues)\n",
    "\n",
    "neighborhoods_venues_sorted.head()"
   ]
  },
  {
   "cell_type": "code",
   "execution_count": null,
   "metadata": {},
   "outputs": [],
   "source": [
    "# set number of clusters\n",
    "kclusters = 5\n",
    "\n",
    "toronto_grouped_clustering = toronto_grouped.drop('Neighborhood', 1)\n",
    "\n",
    "# run k-means clustering\n",
    "kmeans = KMeans(n_clusters=kclusters, random_state=0).fit(toronto_grouped_clustering)\n",
    "\n",
    "# check cluster labels generated for each row in the dataframe\n",
    "kmeans.labels_[0:10]"
   ]
  },
  {
   "cell_type": "code",
   "execution_count": null,
   "metadata": {},
   "outputs": [],
   "source": [
    "import math\n",
    "# add clustering labels\n",
    "neighborhoods_venues_sorted.insert(0, 'Cluster Labels', kmeans.labels_)\n",
    "\n",
    "toronto_merged = df\n",
    "\n",
    "# merge toronto_grouped with toronto_data to add latitude/longitude for each neighborhood\n",
    "toronto_merged = toronto_merged.join(neighborhoods_venues_sorted.set_index('Neighborhood'), on='Neighborhood')\n",
    "toronto_merged = toronto_merged[[not i for i in pd.isnull(toronto_merged['Cluster Labels'])]].reset_index(drop=True)\n",
    "\n",
    "toronto_merged.head()"
   ]
  },
  {
   "cell_type": "code",
   "execution_count": null,
   "metadata": {},
   "outputs": [],
   "source": [
    "# create map\n",
    "map_clusters = folium.Map(location=[latitude, longitude], zoom_start=11)\n",
    "\n",
    "# set color scheme for the clusters\n",
    "x = np.arange(kclusters)\n",
    "ys = [i + x + (i*x)**2 for i in range(kclusters)]\n",
    "colors_array = cm.rainbow(np.linspace(0, 1, len(ys)))\n",
    "rainbow = [colors.rgb2hex(i) for i in colors_array]\n",
    "\n",
    "# add markers to the map\n",
    "markers_colors = []\n",
    "for lat, lon, poi, cluster in zip(toronto_merged['Latitude'], toronto_merged['Longitude'], toronto_merged['Neighborhood'], toronto_merged['Cluster Labels']):\n",
    "    label = folium.Popup(str(poi) + ' Cluster ' + str(cluster), parse_html=True)\n",
    "    folium.CircleMarker(\n",
    "        [lat, lon],\n",
    "        radius=5,\n",
    "        popup=label,\n",
    "        color=rainbow[int(cluster)-1],\n",
    "        fill=True,\n",
    "        fill_color=rainbow[int(cluster)-1],\n",
    "        fill_opacity=0.7).add_to(map_clusters)\n",
    "       \n",
    "map_clusters"
   ]
  },
  {
   "cell_type": "code",
   "execution_count": null,
   "metadata": {},
   "outputs": [],
   "source": [
    "toronto_merged.loc[toronto_merged['Cluster Labels'] == 0, toronto_merged.columns[[1] + list(range(5, toronto_merged.shape[1]))]]"
   ]
  },
  {
   "cell_type": "code",
   "execution_count": null,
   "metadata": {},
   "outputs": [],
   "source": [
    "toronto_merged.loc[toronto_merged['Cluster Labels'] == 1, toronto_merged.columns[[1] + list(range(5, toronto_merged.shape[1]))]]"
   ]
  },
  {
   "cell_type": "code",
   "execution_count": null,
   "metadata": {},
   "outputs": [],
   "source": [
    "toronto_merged.loc[toronto_merged['Cluster Labels'] == 2, toronto_merged.columns[[1] + list(range(5, toronto_merged.shape[1]))]]"
   ]
  },
  {
   "cell_type": "code",
   "execution_count": null,
   "metadata": {},
   "outputs": [],
   "source": [
    "toronto_merged.loc[toronto_merged['Cluster Labels'] == 3, toronto_merged.columns[[1] + list(range(5, toronto_merged.shape[1]))]]"
   ]
  },
  {
   "cell_type": "code",
   "execution_count": null,
   "metadata": {},
   "outputs": [],
   "source": [
    "toronto_merged.loc[toronto_merged['Cluster Labels'] == 4, toronto_merged.columns[[1] + list(range(5, toronto_merged.shape[1]))]]"
   ]
  },
  {
   "cell_type": "code",
   "execution_count": null,
   "metadata": {},
   "outputs": [],
   "source": []
  }
 ],
 "metadata": {
  "kernelspec": {
   "display_name": "Python 3",
   "language": "python",
   "name": "python3"
  },
  "language_info": {
   "codemirror_mode": {
    "name": "ipython",
    "version": 3
   },
   "file_extension": ".py",
   "mimetype": "text/x-python",
   "name": "python",
   "nbconvert_exporter": "python",
   "pygments_lexer": "ipython3",
   "version": "3.8.1"
  }
 },
 "nbformat": 4,
 "nbformat_minor": 4
}
